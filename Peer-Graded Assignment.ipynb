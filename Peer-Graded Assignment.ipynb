{
 "cells": [
  {
   "cell_type": "markdown",
   "metadata": {},
   "source": [
    "<center>\n",
    "    <img src=\"https://cf-courses-data.s3.us.cloud-object-storage.appdomain.cloud/IBMDeveloperSkillsNetwork-DS0105EN-SkillsNetwork/labs/Module2/images/SN_web_lightmode.png\" width=\"300\" alt=\"cognitiveclass.ai logo\">\n",
    "</center>\n"
   ]
  },
  {
   "cell_type": "markdown",
   "metadata": {},
   "source": [
    "Exercise 2 - Create a markdown cell with the title of the notebook. (1 pt)"
   ]
  },
  {
   "cell_type": "markdown",
   "metadata": {},
   "source": [
    "# Peer-Graded assignment"
   ]
  },
  {
   "cell_type": "markdown",
   "metadata": {},
   "source": [
    "Exercise 3 - Create a markdown cell for an introduction. (1 pt)"
   ]
  },
  {
   "cell_type": "markdown",
   "metadata": {},
   "source": [
    "You will be provided with an empty Jupyterlite notebook which you will launch in the course, to complete this assignment. You will need to include a combination of markdown and code cells. You will likely need to use the Markdown cheat sheet to help you determine the appropriate syntax for your markdown.  "
   ]
  },
  {
   "cell_type": "code",
   "execution_count": null,
   "metadata": {},
   "outputs": [],
   "source": [
    "Exercise 4 - Create a markdown cell to list data science languages. (3 pts)"
   ]
  },
  {
   "cell_type": "markdown",
   "metadata": {},
   "source": [
    "- Python\n",
    "- R\n",
    "- SQL\n",
    "- Scala\n",
    "- Java\n",
    "- C++\n",
    "- Julia\n",
    "- Javascript\n",
    "- php\n",
    "- Go\n",
    "- Rubi\n",
    "- Visual Basic"
   ]
  },
  {
   "cell_type": "markdown",
   "metadata": {},
   "source": [
    "Exercise 5 - Create a markdown cell to list data science libraries. (3 pts)"
   ]
  },
  {
   "cell_type": "markdown",
   "metadata": {},
   "source": [
    "- Pandas\n",
    "- Numpy\n",
    "- Matplotlib\n",
    "- Seaborn\n",
    "- Scikit-learn\n",
    "- Keras\n",
    "- TensorFlow\n",
    "- Pytorch\n",
    "- Apache Spark\n",
    "- Vegas\n",
    "- BigDl\n",
    "- ggplot2"
   ]
  },
  {
   "cell_type": "markdown",
   "metadata": {},
   "source": [
    "Exercise 6 - Create a markdown cell with a table of Data Science tools. (3 pts)"
   ]
  },
  {
   "cell_type": "markdown",
   "metadata": {},
   "source": [
    "| Category | Tool |\n",
    "| --------- | --------- |\n",
    "| Data Management | MySQL |\n",
    "| Data Management | PostgreSQL |\n",
    "| Data Management | Cassandra |\n",
    "| Data Management | MongoDB |\n",
    "| Data Management | CouchDB |\n",
    "| Data Management | Elasticsearch |\n",
    "| Data Management | Hadoop |\n",
    "| Data Management | Ceph |\n",
    "| IDE/Notebooks | Jupyter |\n",
    "| IDE/Notebooks | RStudio |\n",
    "| IDE/Notebooks | PyCharm |\n",
    "| IDE/Notebooks | Spyder |\n",
    "| IDE/Notebooks | Microsoft Visual Studio |\n",
    "| IDE/Notebooks | Anaconda Navigator |\n",
    "| Data Integration | Spark SQL |\n",
    "| Data Integration | Kubeflow |\n",
    "| Data Integration | Node-RED |\n",
    "| Data Integration | Apache Airflow |\n",
    "| Data Integration | Apache NiFi |\n",
    "| Data Integration | Apache Kafka |\n",
    "| Data Visualization | PixieDust |\n",
    "| Data Visualization | Kibana |\n",
    "| Data Visualization | Hue |\n",
    "| Data Visualization | Superset |\n",
    "| Model Deployment | PredictionIO |\n",
    "| Model Deployment | Seldon |\n",
    "| Model Deployment | Kubernetes |\n",
    "| Model Deployment | OpenShift |\n",
    "| Model Deployment | MLflow |\n",
    "| Model Deployment | TensorFlow Serving |\n",
    "| Model Deployment | TensorFlow Lite |\n",
    "| Model Deployment | TensorFlow.js |\n",
    "| Model Monitoring | AI Fairness 360 |\n",
    "| Model Monitoring | AI Explainability 360 |\n",
    "| Model Monitoring | Adversarial Robustness 360 |\n",
    "| Model Monitoring | Prometheus |\n",
    "| Model Monitoring | ModelDB |\n",
    "| Version Control | Git |\n",
    "| Version Control | GitLab |\n",
    "| Version Control | GitHub |\n",
    "| Version Control | Bitbucket |\n",
    "| Data Catalog | Egeria |\n",
    "| Data Catalog | Kylo |\n",
    "| Data Catalog | Atlas |"
   ]
  },
  {
   "cell_type": "markdown",
   "metadata": {},
   "source": [
    "Exercise 7 - Create a markdown cell introducing arithmetic expression examples. (1pt)"
   ]
  },
  {
   "cell_type": "markdown",
   "metadata": {},
   "source": [
    "# Arithmetic Expression Examples\n",
    "\n",
    "In programming, arithmetic expressions are used to perform mathematical operations. Below are some examples:\n",
    "\n",
    "## Addition\n",
    "The `+` operator adds two numbers together.\n",
    "2 + 3  # Output: 5\n",
    "## Subtraction\n",
    "The - operator subtracts one number from another.\n",
    "5 - 2  # Output: 3\n",
    "## Multiplication\n",
    "The * operator multiplies two numbers.\n",
    "4 * 3  # Output: 12\n",
    "## Division\n",
    "The / operator divides one number by another.\n",
    "10 / 2  # Output: 5.0\n",
    "## Modulus\n",
    "The % operator returns the division remainder.\n",
    "7 % 3  # Output: 1\n",
    "## Exponentiation\n",
    "The ** operator raises one number to the power of another.\n",
    "3 ** 2  # Output: 9\n",
    "## Exercise 8 - Create a code cell to multiply and add numbers. (2 pts)Floor Division\n",
    "The // operator performs floor division, it returns the largest possible integer.\n",
    "8 // 3  # Output: 2"
   ]
  },
  {
   "cell_type": "markdown",
   "metadata": {},
   "source": [
    "Exercise 8 - Create a code cell to multiply and add numbers. (2 pts)"
   ]
  },
  {
   "cell_type": "code",
   "execution_count": 2,
   "metadata": {
    "tags": []
   },
   "outputs": [
    {
     "data": {
      "text/plain": [
       "20"
      ]
     },
     "execution_count": 2,
     "metadata": {},
     "output_type": "execute_result"
    }
   ],
   "source": [
    "4 * (3 + 2)"
   ]
  },
  {
   "cell_type": "markdown",
   "metadata": {},
   "source": [
    "Exercise 9 - Create a code cell to convert minutes to hours. (2 pts)"
   ]
  },
  {
   "cell_type": "code",
   "execution_count": 3,
   "metadata": {
    "tags": []
   },
   "outputs": [
    {
     "data": {
      "text/plain": [
       "2.5"
      ]
     },
     "execution_count": 3,
     "metadata": {},
     "output_type": "execute_result"
    }
   ],
   "source": [
    "def hours(minutes):\n",
    "    return minutes/60\n",
    "\n",
    "hours(150)"
   ]
  },
  {
   "cell_type": "markdown",
   "metadata": {},
   "source": [
    "Exercise 10 -Insert a markdown cell to list Objectives. (3 pts)"
   ]
  },
  {
   "cell_type": "markdown",
   "metadata": {},
   "source": [
    "# Objectives\n",
    "\n",
    "In this final assignment, you will:\n",
    "\n",
    "- Create a Jupyter Notebook\n",
    "\n",
    "- Insert code and markdown cells\n",
    "\n",
    "- Share your notebook through GitHub"
   ]
  },
  {
   "cell_type": "code",
   "execution_count": null,
   "metadata": {},
   "outputs": [],
   "source": []
  }
 ],
 "metadata": {
  "kernelspec": {
   "display_name": "Python",
   "language": "python",
   "name": "conda-env-python-py"
  },
  "language_info": {
   "codemirror_mode": {
    "name": "ipython",
    "version": 3
   },
   "file_extension": ".py",
   "mimetype": "text/x-python",
   "name": "python",
   "nbconvert_exporter": "python",
   "pygments_lexer": "ipython3",
   "version": "3.7.12"
  }
 },
 "nbformat": 4,
 "nbformat_minor": 4
}
